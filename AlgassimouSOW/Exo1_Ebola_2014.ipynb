{
 "cells": [
  {
   "cell_type": "markdown",
   "id": "ea40e9f0-9294-49ac-b532-89c81028ed06",
   "metadata": {},
   "source": [
    "## Importation des bibliothèques"
   ]
  },
  {
   "cell_type": "code",
   "execution_count": null,
   "id": "059d1079-97a0-4718-8971-4c3869139f35",
   "metadata": {},
   "outputs": [],
   "source": [
    "import pandas as pd\n",
    "import matplotlib.pyplot as plt\n",
    "import numpy as np\n",
    "\n",
    "import seaborn as sns"
   ]
  },
  {
   "cell_type": "markdown",
   "id": "f5e9c82e-d44a-4b01-8d13-ef20bde19c6e",
   "metadata": {},
   "source": [
    "## 1) Importation et lecture du fichier contenant les donnés à analiser"
   ]
  },
  {
   "cell_type": "code",
   "execution_count": 6,
   "id": "d6f6f9a2-be65-48b0-ba04-a3208038f961",
   "metadata": {},
   "outputs": [],
   "source": [
    "diamonds = pd.read_csv('ebola_guinea.csv')"
   ]
  },
  {
   "cell_type": "code",
   "execution_count": 7,
   "id": "0412beba-6e4f-4c73-9fd2-3682c371de2e",
   "metadata": {},
   "outputs": [
    {
     "data": {
      "text/html": [
       "<div>\n",
       "<style scoped>\n",
       "    .dataframe tbody tr th:only-of-type {\n",
       "        vertical-align: middle;\n",
       "    }\n",
       "\n",
       "    .dataframe tbody tr th {\n",
       "        vertical-align: top;\n",
       "    }\n",
       "\n",
       "    .dataframe thead th {\n",
       "        text-align: right;\n",
       "    }\n",
       "</style>\n",
       "<table border=\"1\" class=\"dataframe\">\n",
       "  <thead>\n",
       "    <tr style=\"text-align: right;\">\n",
       "      <th></th>\n",
       "      <th>Prefecture</th>\n",
       "      <th>Date</th>\n",
       "      <th>Cas</th>\n",
       "      <th>Deces</th>\n",
       "    </tr>\n",
       "  </thead>\n",
       "  <tbody>\n",
       "    <tr>\n",
       "      <th>0</th>\n",
       "      <td>Conakry</td>\n",
       "      <td>2014-08-01</td>\n",
       "      <td>10</td>\n",
       "      <td>5</td>\n",
       "    </tr>\n",
       "    <tr>\n",
       "      <th>1</th>\n",
       "      <td>Conakry</td>\n",
       "      <td>2014-08-15</td>\n",
       "      <td>15</td>\n",
       "      <td>8</td>\n",
       "    </tr>\n",
       "    <tr>\n",
       "      <th>2</th>\n",
       "      <td>Conakry</td>\n",
       "      <td>2014-09-01</td>\n",
       "      <td>22</td>\n",
       "      <td>12</td>\n",
       "    </tr>\n",
       "    <tr>\n",
       "      <th>3</th>\n",
       "      <td>Boke</td>\n",
       "      <td>2014-08-01</td>\n",
       "      <td>3</td>\n",
       "      <td>1</td>\n",
       "    </tr>\n",
       "    <tr>\n",
       "      <th>4</th>\n",
       "      <td>Boke</td>\n",
       "      <td>2014-08-15</td>\n",
       "      <td>5</td>\n",
       "      <td>2</td>\n",
       "    </tr>\n",
       "    <tr>\n",
       "      <th>5</th>\n",
       "      <td>Boke</td>\n",
       "      <td>2014-09-01</td>\n",
       "      <td>8</td>\n",
       "      <td>4</td>\n",
       "    </tr>\n",
       "    <tr>\n",
       "      <th>6</th>\n",
       "      <td>Kindia</td>\n",
       "      <td>2014-08-01</td>\n",
       "      <td>5</td>\n",
       "      <td>2</td>\n",
       "    </tr>\n",
       "    <tr>\n",
       "      <th>7</th>\n",
       "      <td>Kindia</td>\n",
       "      <td>2014-08-15</td>\n",
       "      <td>8</td>\n",
       "      <td>3</td>\n",
       "    </tr>\n",
       "    <tr>\n",
       "      <th>8</th>\n",
       "      <td>Kindia</td>\n",
       "      <td>2014-09-01</td>\n",
       "      <td>12</td>\n",
       "      <td>6</td>\n",
       "    </tr>\n",
       "  </tbody>\n",
       "</table>\n",
       "</div>"
      ],
      "text/plain": [
       "  Prefecture        Date  Cas  Deces\n",
       "0    Conakry  2014-08-01   10      5\n",
       "1    Conakry  2014-08-15   15      8\n",
       "2    Conakry  2014-09-01   22     12\n",
       "3       Boke  2014-08-01    3      1\n",
       "4       Boke  2014-08-15    5      2\n",
       "5       Boke  2014-09-01    8      4\n",
       "6     Kindia  2014-08-01    5      2\n",
       "7     Kindia  2014-08-15    8      3\n",
       "8     Kindia  2014-09-01   12      6"
      ]
     },
     "execution_count": 7,
     "metadata": {},
     "output_type": "execute_result"
    }
   ],
   "source": [
    "diamonds"
   ]
  },
  {
   "cell_type": "markdown",
   "id": "13608682-0b26-4eec-974f-f5fe5e66b413",
   "metadata": {},
   "source": [
    "## 2) Calculs statistiques"
   ]
  },
  {
   "cell_type": "markdown",
   "id": "f0d47b2b-99cc-46ca-b7a3-63d10f3221da",
   "metadata": {},
   "source": [
    "## Nombre total de cas et de décès pour chaque prefecture"
   ]
  },
  {
   "cell_type": "code",
   "execution_count": 8,
   "id": "289d6c5d-8176-4754-8727-14e6e8495447",
   "metadata": {},
   "outputs": [
    {
     "data": {
      "text/html": [
       "<div>\n",
       "<style scoped>\n",
       "    .dataframe tbody tr th:only-of-type {\n",
       "        vertical-align: middle;\n",
       "    }\n",
       "\n",
       "    .dataframe tbody tr th {\n",
       "        vertical-align: top;\n",
       "    }\n",
       "\n",
       "    .dataframe thead th {\n",
       "        text-align: right;\n",
       "    }\n",
       "</style>\n",
       "<table border=\"1\" class=\"dataframe\">\n",
       "  <thead>\n",
       "    <tr style=\"text-align: right;\">\n",
       "      <th></th>\n",
       "      <th>Cas</th>\n",
       "      <th>Deces</th>\n",
       "    </tr>\n",
       "    <tr>\n",
       "      <th>Prefecture</th>\n",
       "      <th></th>\n",
       "      <th></th>\n",
       "    </tr>\n",
       "  </thead>\n",
       "  <tbody>\n",
       "    <tr>\n",
       "      <th>Boke</th>\n",
       "      <td>16</td>\n",
       "      <td>7</td>\n",
       "    </tr>\n",
       "    <tr>\n",
       "      <th>Conakry</th>\n",
       "      <td>47</td>\n",
       "      <td>25</td>\n",
       "    </tr>\n",
       "    <tr>\n",
       "      <th>Kindia</th>\n",
       "      <td>25</td>\n",
       "      <td>11</td>\n",
       "    </tr>\n",
       "  </tbody>\n",
       "</table>\n",
       "</div>"
      ],
      "text/plain": [
       "            Cas  Deces\n",
       "Prefecture            \n",
       "Boke         16      7\n",
       "Conakry      47     25\n",
       "Kindia       25     11"
      ]
     },
     "execution_count": 8,
     "metadata": {},
     "output_type": "execute_result"
    }
   ],
   "source": [
    "diamonds.groupby(['Prefecture']).sum('Cas')"
   ]
  },
  {
   "cell_type": "markdown",
   "id": "2f5fa823-bbd9-4fa7-a6c3-7988e7d0a553",
   "metadata": {},
   "source": [
    "## Taux de mortalité pour chaque prefecture"
   ]
  },
  {
   "cell_type": "code",
   "execution_count": 9,
   "id": "150ffa5b-7a34-476d-a914-d69adfc3625d",
   "metadata": {},
   "outputs": [
    {
     "data": {
      "text/html": [
       "<div>\n",
       "<style scoped>\n",
       "    .dataframe tbody tr th:only-of-type {\n",
       "        vertical-align: middle;\n",
       "    }\n",
       "\n",
       "    .dataframe tbody tr th {\n",
       "        vertical-align: top;\n",
       "    }\n",
       "\n",
       "    .dataframe thead tr th {\n",
       "        text-align: left;\n",
       "    }\n",
       "\n",
       "    .dataframe thead tr:last-of-type th {\n",
       "        text-align: right;\n",
       "    }\n",
       "</style>\n",
       "<table border=\"1\" class=\"dataframe\">\n",
       "  <thead>\n",
       "    <tr>\n",
       "      <th></th>\n",
       "      <th colspan=\"8\" halign=\"left\">Cas</th>\n",
       "      <th colspan=\"8\" halign=\"left\">Deces</th>\n",
       "    </tr>\n",
       "    <tr>\n",
       "      <th></th>\n",
       "      <th>count</th>\n",
       "      <th>mean</th>\n",
       "      <th>std</th>\n",
       "      <th>min</th>\n",
       "      <th>25%</th>\n",
       "      <th>50%</th>\n",
       "      <th>75%</th>\n",
       "      <th>max</th>\n",
       "      <th>count</th>\n",
       "      <th>mean</th>\n",
       "      <th>std</th>\n",
       "      <th>min</th>\n",
       "      <th>25%</th>\n",
       "      <th>50%</th>\n",
       "      <th>75%</th>\n",
       "      <th>max</th>\n",
       "    </tr>\n",
       "    <tr>\n",
       "      <th>Prefecture</th>\n",
       "      <th></th>\n",
       "      <th></th>\n",
       "      <th></th>\n",
       "      <th></th>\n",
       "      <th></th>\n",
       "      <th></th>\n",
       "      <th></th>\n",
       "      <th></th>\n",
       "      <th></th>\n",
       "      <th></th>\n",
       "      <th></th>\n",
       "      <th></th>\n",
       "      <th></th>\n",
       "      <th></th>\n",
       "      <th></th>\n",
       "      <th></th>\n",
       "    </tr>\n",
       "  </thead>\n",
       "  <tbody>\n",
       "    <tr>\n",
       "      <th>Boke</th>\n",
       "      <td>3.0</td>\n",
       "      <td>5.333333</td>\n",
       "      <td>2.516611</td>\n",
       "      <td>3.0</td>\n",
       "      <td>4.0</td>\n",
       "      <td>5.0</td>\n",
       "      <td>6.5</td>\n",
       "      <td>8.0</td>\n",
       "      <td>3.0</td>\n",
       "      <td>2.333333</td>\n",
       "      <td>1.527525</td>\n",
       "      <td>1.0</td>\n",
       "      <td>1.5</td>\n",
       "      <td>2.0</td>\n",
       "      <td>3.0</td>\n",
       "      <td>4.0</td>\n",
       "    </tr>\n",
       "    <tr>\n",
       "      <th>Conakry</th>\n",
       "      <td>3.0</td>\n",
       "      <td>15.666667</td>\n",
       "      <td>6.027714</td>\n",
       "      <td>10.0</td>\n",
       "      <td>12.5</td>\n",
       "      <td>15.0</td>\n",
       "      <td>18.5</td>\n",
       "      <td>22.0</td>\n",
       "      <td>3.0</td>\n",
       "      <td>8.333333</td>\n",
       "      <td>3.511885</td>\n",
       "      <td>5.0</td>\n",
       "      <td>6.5</td>\n",
       "      <td>8.0</td>\n",
       "      <td>10.0</td>\n",
       "      <td>12.0</td>\n",
       "    </tr>\n",
       "    <tr>\n",
       "      <th>Kindia</th>\n",
       "      <td>3.0</td>\n",
       "      <td>8.333333</td>\n",
       "      <td>3.511885</td>\n",
       "      <td>5.0</td>\n",
       "      <td>6.5</td>\n",
       "      <td>8.0</td>\n",
       "      <td>10.0</td>\n",
       "      <td>12.0</td>\n",
       "      <td>3.0</td>\n",
       "      <td>3.666667</td>\n",
       "      <td>2.081666</td>\n",
       "      <td>2.0</td>\n",
       "      <td>2.5</td>\n",
       "      <td>3.0</td>\n",
       "      <td>4.5</td>\n",
       "      <td>6.0</td>\n",
       "    </tr>\n",
       "  </tbody>\n",
       "</table>\n",
       "</div>"
      ],
      "text/plain": [
       "             Cas                                                    Deces  \\\n",
       "           count       mean       std   min   25%   50%   75%   max count   \n",
       "Prefecture                                                                  \n",
       "Boke         3.0   5.333333  2.516611   3.0   4.0   5.0   6.5   8.0   3.0   \n",
       "Conakry      3.0  15.666667  6.027714  10.0  12.5  15.0  18.5  22.0   3.0   \n",
       "Kindia       3.0   8.333333  3.511885   5.0   6.5   8.0  10.0  12.0   3.0   \n",
       "\n",
       "                                                           \n",
       "                mean       std  min  25%  50%   75%   max  \n",
       "Prefecture                                                 \n",
       "Boke        2.333333  1.527525  1.0  1.5  2.0   3.0   4.0  \n",
       "Conakry     8.333333  3.511885  5.0  6.5  8.0  10.0  12.0  \n",
       "Kindia      3.666667  2.081666  2.0  2.5  3.0   4.5   6.0  "
      ]
     },
     "execution_count": 9,
     "metadata": {},
     "output_type": "execute_result"
    }
   ],
   "source": [
    "diamonds.groupby('Prefecture').describe()"
   ]
  },
  {
   "cell_type": "markdown",
   "id": "d7f20254-b6d5-4102-bf61-5f78b15279c0",
   "metadata": {},
   "source": [
    "## 3) Diagramme à barres montrant le nombre total de cas et de décès pour chaque prefecture"
   ]
  },
  {
   "cell_type": "code",
   "execution_count": 11,
   "id": "959d85fc-1d7e-40fb-a158-5e962e8358d1",
   "metadata": {},
   "outputs": [
    {
     "data": {
      "text/plain": [
       "<Figure size 1000x500 with 0 Axes>"
      ]
     },
     "metadata": {},
     "output_type": "display_data"
    },
    {
     "data": {
      "image/png": "[encoded data removed]",
      "text/plain": [
       "<Figure size 1000x500 with 2 Axes>"
      ]
     },
     "metadata": {},
     "output_type": "display_data"
    }
   ],
   "source": [
    "plt.figure(figsize=(10,5))\n",
    "diamonds.groupby('Prefecture').describe()\n",
    "diamonds.select_dtypes(include='number').hist(bins=15, edgecolor='black',figsize=(10,5))\n",
    "plt.suptitle(\"Distrubution des variables numeriques\", fontsize=20)\n",
    "plt.show()"
   ]
  },
  {
   "cell_type": "code",
   "execution_count": null,
   "id": "93f76fc2-1e21-4712-8cb4-d125f36530ec",
   "metadata": {},
   "outputs": [],
   "source": []
  },
  {
   "cell_type": "code",
   "execution_count": null,
   "id": "cdffc1d1-23ab-4c4a-93cc-fb27121071e3",
   "metadata": {},
   "outputs": [],
   "source": []
  }
 ],
 "metadata": {
  "kernelspec": {
   "display_name": "Python 3 (ipykernel)",
   "language": "python",
   "name": "python3"
  },
  "language_info": {
   "codemirror_mode": {
    "name": "ipython",
    "version": 3
   },
   "file_extension": ".py",
   "mimetype": "text/x-python",
   "name": "python",
   "nbconvert_exporter": "python",
   "pygments_lexer": "ipython3",
   "version": "3.12.4"
  }
 },
 "nbformat": 4,
 "nbformat_minor": 5
}
